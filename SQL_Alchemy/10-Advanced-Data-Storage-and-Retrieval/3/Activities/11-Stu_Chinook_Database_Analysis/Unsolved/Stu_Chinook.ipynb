{
 "cells": [
  {
   "cell_type": "code",
   "execution_count": 7,
   "metadata": {
    "deletable": false,
    "editable": false,
    "nbgrader": {
     "checksum": "9d602cf93c40f5e5ca32dfddb188a893",
     "grade": false,
     "grade_id": "cell-ce43e917c058e1e6",
     "locked": true,
     "schema_version": 1,
     "solution": false
    }
   },
   "outputs": [],
   "source": [
    "# Ignore SQLITE warnings related to Decimal numbers in the Chinook database\n",
    "import warnings\n",
    "warnings.filterwarnings('ignore')"
   ]
  },
  {
   "cell_type": "code",
   "execution_count": 8,
   "metadata": {
    "deletable": false,
    "nbgrader": {
     "checksum": "cad959afc6f3e2fe3e5c799304133d7b",
     "grade": false,
     "grade_id": "cell-5a901ed15fb6e525",
     "locked": false,
     "schema_version": 1,
     "solution": true
    }
   },
   "outputs": [],
   "source": [
    "# Import Dependencies\n",
    "# YOUR CODE HERE\n",
    "import sqlalchemy\n",
    "from sqlalchemy.ext.automap import automap_base\n",
    "from sqlalchemy.orm import Session\n",
    "from sqlalchemy import create_engine, func\n"
   ]
  },
  {
   "cell_type": "code",
   "execution_count": 9,
   "metadata": {
    "deletable": false,
    "nbgrader": {
     "checksum": "2cb8870d53a9518f160a8520699b0b46",
     "grade": false,
     "grade_id": "cell-3061988562b57cdd",
     "locked": false,
     "schema_version": 1,
     "solution": true
    }
   },
   "outputs": [],
   "source": [
    "# Create an engine for the chinook.sqlite database\n",
    "# YOUR CODE HERE\n",
    "engine = create_engine('sqlite:///../Resources/chinook.sqlite', echo=False)"
   ]
  },
  {
   "cell_type": "code",
   "execution_count": 10,
   "metadata": {
    "deletable": false,
    "nbgrader": {
     "checksum": "adbea09ccfc57033c747ec7155126700",
     "grade": false,
     "grade_id": "cell-96fcd4f8590fa08d",
     "locked": false,
     "schema_version": 1,
     "solution": true
    }
   },
   "outputs": [
    {
     "data": {
      "text/plain": [
       "<sqlalchemy.ext.automap.invoices at 0x2378d247100>"
      ]
     },
     "execution_count": 10,
     "metadata": {},
     "output_type": "execute_result"
    }
   ],
   "source": [
    "# Reflect Database into ORM classes\n",
    "# YOUR CODE HERE\n",
    "Base = automap_base()\n",
    "Base.prepare(engine, reflect=True)\n",
    "Base.classes.invoices()"
   ]
  },
  {
   "cell_type": "code",
   "execution_count": 15,
   "metadata": {
    "deletable": false,
    "nbgrader": {
     "checksum": "f2f9e57aeefe3280d2f9a8398766ae1b",
     "grade": false,
     "grade_id": "cell-b94d91b48824b4bd",
     "locked": false,
     "schema_version": 1,
     "solution": true
    }
   },
   "outputs": [],
   "source": [
    "# Save a reference to the invoices table as `Invoices`\n",
    "# YOUR CODE HERE\n",
    "Invoices = Base.classes.invoices"
   ]
  },
  {
   "cell_type": "code",
   "execution_count": 16,
   "metadata": {
    "deletable": false,
    "nbgrader": {
     "checksum": "9d4fecd952331e0d9a0320d129637ac9",
     "grade": false,
     "grade_id": "cell-691d1378e207458c",
     "locked": false,
     "schema_version": 1,
     "solution": true
    }
   },
   "outputs": [],
   "source": [
    "# Create a database session object\n",
    "# YOUR CODE HERE\n",
    "session = Session(engine)"
   ]
  },
  {
   "cell_type": "code",
   "execution_count": 17,
   "metadata": {
    "deletable": false,
    "nbgrader": {
     "checksum": "04b37f5699e715835e87bdfeaf17b146",
     "grade": false,
     "grade_id": "cell-88cce17ddb8934fb",
     "locked": false,
     "schema_version": 1,
     "solution": true
    }
   },
   "outputs": [
    {
     "data": {
      "text/plain": [
       "[('Argentina'),\n",
       " ('Australia'),\n",
       " ('Austria'),\n",
       " ('Belgium'),\n",
       " ('Brazil'),\n",
       " ('Canada'),\n",
       " ('Chile'),\n",
       " ('Czech Republic'),\n",
       " ('Denmark'),\n",
       " ('Finland'),\n",
       " ('France'),\n",
       " ('Germany'),\n",
       " ('Hungary'),\n",
       " ('India'),\n",
       " ('Ireland'),\n",
       " ('Italy'),\n",
       " ('Netherlands'),\n",
       " ('Norway'),\n",
       " ('Poland'),\n",
       " ('Portugal'),\n",
       " ('Spain'),\n",
       " ('Sweden'),\n",
       " ('USA'),\n",
       " ('United Kingdom')]"
      ]
     },
     "execution_count": 17,
     "metadata": {},
     "output_type": "execute_result"
    }
   ],
   "source": [
    "# List all of the countries found in the invoices table\n",
    "# YOUR CODE HERE\n",
    "session.query(Invoices.BillingCountry).group_by(Invoices.BillingCountry).all()"
   ]
  },
  {
   "cell_type": "code",
   "execution_count": null,
   "metadata": {
    "collapsed": true,
    "deletable": false,
    "nbgrader": {
     "checksum": "bcf5656ccaf5b175d104f4bbd2b4dd6b",
     "grade": false,
     "grade_id": "cell-4feed124c0f54f43",
     "locked": false,
     "schema_version": 1,
     "solution": true
    }
   },
   "outputs": [],
   "source": [
    "# Design a query that lists the invoices totals for each billing country \n",
    "# and sort the output in descending order.\n",
    "# YOUR CODE HERE\n"
   ]
  },
  {
   "cell_type": "code",
   "execution_count": 18,
   "metadata": {
    "deletable": false,
    "nbgrader": {
     "checksum": "ce836218c36115d86ac0556cae44b4f1",
     "grade": false,
     "grade_id": "cell-e9cdc46eb1a16b7b",
     "locked": false,
     "schema_version": 1,
     "solution": true
    },
    "scrolled": false
   },
   "outputs": [
    {
     "ename": "AttributeError",
     "evalue": "type object 'Base' has no attribute 'Classes'",
     "output_type": "error",
     "traceback": [
      "\u001b[1;31m---------------------------------------------------------------------------\u001b[0m",
      "\u001b[1;31mAttributeError\u001b[0m                            Traceback (most recent call last)",
      "\u001b[1;32m<ipython-input-18-f6d8560936ab>\u001b[0m in \u001b[0;36m<module>\u001b[1;34m\u001b[0m\n\u001b[0;32m      1\u001b[0m \u001b[1;31m# Save a reference to the invoice_items table as `Items`\u001b[0m\u001b[1;33m\u001b[0m\u001b[1;33m\u001b[0m\u001b[1;33m\u001b[0m\u001b[0m\n\u001b[1;32m----> 2\u001b[1;33m \u001b[0mItems\u001b[0m \u001b[1;33m=\u001b[0m \u001b[0mBase\u001b[0m\u001b[1;33m.\u001b[0m\u001b[0mClasses\u001b[0m\u001b[1;33m.\u001b[0m\u001b[0minvoice_items\u001b[0m\u001b[1;33m\u001b[0m\u001b[1;33m\u001b[0m\u001b[0m\n\u001b[0m",
      "\u001b[1;31mAttributeError\u001b[0m: type object 'Base' has no attribute 'Classes'"
     ]
    }
   ],
   "source": [
    "# Save a reference to the invoice_items table as `Items`\n",
    "Items = Base.Classes.invoice_items"
   ]
  },
  {
   "cell_type": "code",
   "execution_count": 25,
   "metadata": {
    "deletable": false,
    "nbgrader": {
     "checksum": "e4300624c55fd732893cd80f6cea454d",
     "grade": false,
     "grade_id": "cell-0a9629333439cef4",
     "locked": false,
     "schema_version": 1,
     "solution": true
    }
   },
   "outputs": [
    {
     "data": {
      "text/plain": [
       "[('10012-2612'),\n",
       " ('2113'),\n",
       " ('32801'),\n",
       " ('53703'),\n",
       " ('60611'),\n",
       " ('76110'),\n",
       " ('84102'),\n",
       " ('85719'),\n",
       " ('89503'),\n",
       " ('94040-111'),\n",
       " ('94043-1351'),\n",
       " ('95014'),\n",
       " ('98052-8300')]"
      ]
     },
     "execution_count": 25,
     "metadata": {},
     "output_type": "execute_result"
    }
   ],
   "source": [
    "# List all of the Billing Postal Codes for the USA.\n",
    "results = session.query(Invoices.BillingPostalCode).\\\n",
    "    filter(Invoices.BillingCountry == \"USA\").group_by(Invoices.BillingPostalCode).all()\n",
    "results\n"
   ]
  },
  {
   "cell_type": "code",
   "execution_count": 27,
   "metadata": {
    "deletable": false,
    "nbgrader": {
     "checksum": "7d7750334aa78f3613176da2c4563e81",
     "grade": false,
     "grade_id": "cell-a2cbfd30ace44821",
     "locked": false,
     "schema_version": 1,
     "solution": true
    }
   },
   "outputs": [
    {
     "ename": "SyntaxError",
     "evalue": "expression cannot contain assignment, perhaps you meant \"==\"? (<ipython-input-27-5d4f80cf4821>, line 2)",
     "output_type": "error",
     "traceback": [
      "\u001b[1;36m  File \u001b[1;32m\"<ipython-input-27-5d4f80cf4821>\"\u001b[1;36m, line \u001b[1;32m2\u001b[0m\n\u001b[1;33m    session.query(func.sum(Items.UnitPrice = Items.Quantity)).\\\u001b[0m\n\u001b[1;37m                           ^\u001b[0m\n\u001b[1;31mSyntaxError\u001b[0m\u001b[1;31m:\u001b[0m expression cannot contain assignment, perhaps you meant \"==\"?\n"
     ]
    }
   ],
   "source": [
    "# Calculate the Item Totals (sum(UnitPrice * Quantity)) for the USA\n",
    "session.query(func.sum(Items.UnitPrice = Items.Quantity)).\\\n",
    "    filter(Invoice.InvoiceId == Items.InvoiceId).\\\n",
    "    filter(Invoices.BillingCounty == \"USA\").scalar()\n"
   ]
  },
  {
   "cell_type": "code",
   "execution_count": 28,
   "metadata": {
    "deletable": false,
    "nbgrader": {
     "checksum": "8fcc1cf686ccc8f054a06bb19e3bfa22",
     "grade": false,
     "grade_id": "cell-04614f479d1ab21b",
     "locked": false,
     "schema_version": 1,
     "solution": true
    }
   },
   "outputs": [
    {
     "ename": "NameError",
     "evalue": "name 'Items' is not defined",
     "output_type": "error",
     "traceback": [
      "\u001b[1;31m---------------------------------------------------------------------------\u001b[0m",
      "\u001b[1;31mNameError\u001b[0m                                 Traceback (most recent call last)",
      "\u001b[1;32m<ipython-input-28-0eb0108a02e0>\u001b[0m in \u001b[0;36m<module>\u001b[1;34m\u001b[0m\n\u001b[0;32m      1\u001b[0m \u001b[1;31m# Calculate the Item Totals `sum(UnitPrice * Quantity)` for each Billing Postal Code in the USA\u001b[0m\u001b[1;33m\u001b[0m\u001b[1;33m\u001b[0m\u001b[1;33m\u001b[0m\u001b[0m\n\u001b[0;32m      2\u001b[0m \u001b[1;31m# Sort the results in descending order by Total\u001b[0m\u001b[1;33m\u001b[0m\u001b[1;33m\u001b[0m\u001b[1;33m\u001b[0m\u001b[0m\n\u001b[1;32m----> 3\u001b[1;33m \u001b[0msession\u001b[0m\u001b[1;33m.\u001b[0m\u001b[0mquery\u001b[0m\u001b[1;33m(\u001b[0m\u001b[0mInvoices\u001b[0m\u001b[1;33m.\u001b[0m\u001b[0mBillingPostalCode\u001b[0m\u001b[1;33m,\u001b[0m \u001b[0mfunc\u001b[0m\u001b[1;33m.\u001b[0m\u001b[0msum\u001b[0m\u001b[1;33m(\u001b[0m\u001b[0mItems\u001b[0m\u001b[1;33m.\u001b[0m\u001b[0mUnitPrice\u001b[0m \u001b[1;33m*\u001b[0m \u001b[0mItems\u001b[0m\u001b[1;33m.\u001b[0m\u001b[0mQuantity\u001b[0m\u001b[1;33m)\u001b[0m\u001b[1;33m)\u001b[0m\u001b[1;33m.\u001b[0m\u001b[0;31m\\\u001b[0m\u001b[1;33m\u001b[0m\u001b[1;33m\u001b[0m\u001b[0m\n\u001b[0m\u001b[0;32m      4\u001b[0m     \u001b[0mfilter\u001b[0m\u001b[1;33m(\u001b[0m\u001b[0mInvoices\u001b[0m\u001b[1;33m.\u001b[0m\u001b[0mInvoiceId\u001b[0m \u001b[1;33m==\u001b[0m \u001b[0mItems\u001b[0m\u001b[1;33m.\u001b[0m\u001b[0mInvoiceId\u001b[0m\u001b[1;33m)\u001b[0m\u001b[1;33m.\u001b[0m\u001b[0;31m\\\u001b[0m\u001b[1;33m\u001b[0m\u001b[1;33m\u001b[0m\u001b[0m\n\u001b[0;32m      5\u001b[0m     \u001b[0mfilter\u001b[0m\u001b[1;33m(\u001b[0m\u001b[0mInvoices\u001b[0m\u001b[1;33m.\u001b[0m\u001b[0mBillingCountry\u001b[0m \u001b[1;33m==\u001b[0m \u001b[1;34m\"USA\"\u001b[0m\u001b[1;33m)\u001b[0m\u001b[1;33m.\u001b[0m\u001b[0;31m\\\u001b[0m\u001b[1;33m\u001b[0m\u001b[1;33m\u001b[0m\u001b[0m\n",
      "\u001b[1;31mNameError\u001b[0m: name 'Items' is not defined"
     ]
    }
   ],
   "source": [
    "# Calculate the Item Totals `sum(UnitPrice * Quantity)` for each Billing Postal Code in the USA\n",
    "# Sort the results in descending order by Total\n",
    "session.query(Invoices.BillingPostalCode, func.sum(Items.UnitPrice * Items.Quantity)).\\\n",
    "    filter(Invoices.InvoiceId == Items.InvoiceId).\\\n",
    "    filter(Invoices.BillingCountry == \"USA\").\\\n",
    "    group_by(Invoices.BillingPostalCode).\\\n",
    "    order_by(func.sum(Items.UnitPrice * Items.Quantity).desc()).all()\n"
   ]
  },
  {
   "cell_type": "code",
   "execution_count": null,
   "metadata": {},
   "outputs": [],
   "source": []
  }
 ],
 "metadata": {
  "kernelspec": {
   "display_name": "Python [conda env:root] *",
   "language": "python",
   "name": "conda-root-py"
  },
  "language_info": {
   "codemirror_mode": {
    "name": "ipython",
    "version": 3
   },
   "file_extension": ".py",
   "mimetype": "text/x-python",
   "name": "python",
   "nbconvert_exporter": "python",
   "pygments_lexer": "ipython3",
   "version": "3.8.3"
  },
  "varInspector": {
   "cols": {
    "lenName": 16,
    "lenType": 16,
    "lenVar": 40
   },
   "kernels_config": {
    "python": {
     "delete_cmd_postfix": "",
     "delete_cmd_prefix": "del ",
     "library": "var_list.py",
     "varRefreshCmd": "print(var_dic_list())"
    },
    "r": {
     "delete_cmd_postfix": ") ",
     "delete_cmd_prefix": "rm(",
     "library": "var_list.r",
     "varRefreshCmd": "cat(var_dic_list()) "
    }
   },
   "types_to_exclude": [
    "module",
    "function",
    "builtin_function_or_method",
    "instance",
    "_Feature"
   ],
   "window_display": false
  }
 },
 "nbformat": 4,
 "nbformat_minor": 2
}
