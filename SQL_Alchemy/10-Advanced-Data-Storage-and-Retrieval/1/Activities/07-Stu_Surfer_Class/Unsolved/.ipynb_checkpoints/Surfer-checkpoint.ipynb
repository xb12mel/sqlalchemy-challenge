{
 "cells": [
  {
   "cell_type": "code",
   "execution_count": 27,
   "metadata": {},
   "outputs": [],
   "source": [
    "# Define a class\n",
    "class Surfer():\n",
    "    \n",
    "    #keep track of the surfer count as they're created\n",
    "    surfercount = 0\n",
    "    \n",
    "    # constructor\n",
    "    #-----------------------------------------------------------------------------------------------------------------\n",
    "    # Initialize the surfer and assign each surfer a new count upon creation\n",
    "    def __init__(self, name, hometown, rank, speak, wipeouts =0): \n",
    "        self.name = name + \" \" + \"Dude\"\n",
    "        self.hometown = hometown + \" \" +\"Waves\"\n",
    "        self.rank = rank\n",
    "        self.wipeouts = wipeouts\n",
    "        Surfer.surfercount += 1 #an attribute that increments itself by adding one.\n",
    "        \n",
    "    #Class Methods\n",
    "    #--------------------------------------------------------------------------------------------------------------------\n",
    "    # Prints what number surfer they are based on when they were created\n",
    "    def surfer_count(self):\n",
    "        print(\"Total surfers shredding waves %d\" % Surfer.surfercount)\n",
    "    \n",
    "    def speak(self):\n",
    "        print(\"Hang loose bruh!\")\n",
    "        \n",
    "    def biography(self):\n",
    "        print(f\"My name is {self.name}, I am from {self.hometown} and rank #{self.rank}, I've wiped out {self.wipeouts} times!\")\n",
    "        \n",
    "    def cheer(self):\n",
    "        if self.wipeouts == 0:\n",
    "            print('I totally rock man, no wipeouts!')\n",
    "        else:\n",
    "            print('bummer bruh, keep on keeping on!')\n"
   ]
  },
  {
   "cell_type": "code",
   "execution_count": null,
   "metadata": {},
   "outputs": [],
   "source": []
  },
  {
   "cell_type": "code",
   "execution_count": 29,
   "metadata": {},
   "outputs": [],
   "source": [
    "# Create an instance of the Surfer Class\n",
    "surfer = Surfer('Kelly Slater', 'Cocoa Beach', 1, 10)"
   ]
  },
  {
   "cell_type": "code",
   "execution_count": 30,
   "metadata": {},
   "outputs": [
    {
     "name": "stdout",
     "output_type": "stream",
     "text": [
      "Kelly Slater Dude\n",
      "Cocoa Beach Waves\n",
      "1\n",
      "Hang loose bruh!\n",
      "My name is Kelly Slater Dude, I am from Cocoa Beach Waves and rank #1, I've wiped out 0 times!\n",
      "I totally rock man, no wipeouts!\n",
      "Total surfers shredding waves 2\n"
     ]
    }
   ],
   "source": [
    "# Print the object's attributes\n",
    "print(surfer.name)\n",
    "print(surfer.hometown)\n",
    "print(surfer.rank)\n",
    "surfer.speak()\n",
    "surfer.biography()\n",
    "surfer.cheer()\n",
    "surfer.surfer_count()"
   ]
  },
  {
   "cell_type": "code",
   "execution_count": 16,
   "metadata": {},
   "outputs": [
    {
     "name": "stdout",
     "output_type": "stream",
     "text": [
      "What is the surfer's name?Bobby MCFeren\n",
      "What is the surfer's hometown?Dallas\n",
      "What is the surfer's rank?200\n",
      "Kelly Slater Dude\n",
      "Cocoa Beach Waves\n",
      "1\n",
      "Would you like to continue (y/n)n\n"
     ]
    }
   ],
   "source": [
    "# ----BONUS----\n",
    "# Variable to keep track of changes to while loop\n",
    "go = True\n",
    "\n",
    "while go:\n",
    "    name = input(\"What is the surfer's name?\")\n",
    "    hometown = input(\"What is the surfer's hometown?\")\n",
    "    rank = input(\"What is the surfer's rank?\")\n",
    "    \n",
    "    surfer = Surfer('Kelly Slater', 'Cocoa Beach', 1)\n",
    "    \n",
    "    print(surfer.name)\n",
    "    print(surfer.hometown)\n",
    "    print(surfer.rank)\n",
    "    \n",
    "    check = input(\"Would you like to continue (y/n)\")\n",
    "    if(check.lower() == 'y'):\n",
    "        go = True\n",
    "    else:\n",
    "        go = False\n"
   ]
  },
  {
   "cell_type": "code",
   "execution_count": null,
   "metadata": {},
   "outputs": [],
   "source": []
  }
 ],
 "metadata": {
  "kernelspec": {
   "display_name": "Python [conda env:root]",
   "language": "python",
   "name": "conda-root-py"
  },
  "language_info": {
   "codemirror_mode": {
    "name": "ipython",
    "version": 3
   },
   "file_extension": ".py",
   "mimetype": "text/x-python",
   "name": "python",
   "nbconvert_exporter": "python",
   "pygments_lexer": "ipython3",
   "version": "3.8.3"
  },
  "varInspector": {
   "cols": {
    "lenName": 16,
    "lenType": 16,
    "lenVar": 40
   },
   "kernels_config": {
    "python": {
     "delete_cmd_postfix": "",
     "delete_cmd_prefix": "del ",
     "library": "var_list.py",
     "varRefreshCmd": "print(var_dic_list())"
    },
    "r": {
     "delete_cmd_postfix": ") ",
     "delete_cmd_prefix": "rm(",
     "library": "var_list.r",
     "varRefreshCmd": "cat(var_dic_list()) "
    }
   },
   "types_to_exclude": [
    "module",
    "function",
    "builtin_function_or_method",
    "instance",
    "_Feature"
   ],
   "window_display": false
  }
 },
 "nbformat": 4,
 "nbformat_minor": 2
}
