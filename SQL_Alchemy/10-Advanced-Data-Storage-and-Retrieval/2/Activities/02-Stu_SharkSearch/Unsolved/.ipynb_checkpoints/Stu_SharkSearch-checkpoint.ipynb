{
 "cells": [
  {
   "cell_type": "code",
   "execution_count": 4,
   "metadata": {},
   "outputs": [],
   "source": [
    "from sqlalchemy.ext.declarative import declarative_base\n",
    "Base = declarative_base()\n",
    "from sqlalchemy import Column, Integer, String, Float"
   ]
  },
  {
   "cell_type": "code",
   "execution_count": 5,
   "metadata": {},
   "outputs": [],
   "source": [
    "from sqlalchemy import create_engine\n",
    "database_path = \"../Resources/sharks.sqlite\"\n",
    "engine = create_engine(f\"sqlite:///{database_path}\")\n",
    "Base.metadata.create_all(engine)"
   ]
  },
  {
   "cell_type": "code",
   "execution_count": 6,
   "metadata": {},
   "outputs": [],
   "source": [
    "from sqlalchemy.orm import Session\n",
    "session = Session(bind=engine)"
   ]
  },
  {
   "cell_type": "code",
   "execution_count": 9,
   "metadata": {
    "deletable": false,
    "nbgrader": {
     "checksum": "272368b77cc71254fcd63d37c986090e",
     "grade": false,
     "grade_id": "cell-c57d66be4b87f3dc",
     "locked": false,
     "schema_version": 1,
     "solution": true
    }
   },
   "outputs": [
    {
     "name": "stderr",
     "output_type": "stream",
     "text": [
      "C:\\Users\\Melvin\\anaconda3\\lib\\site-packages\\sqlalchemy\\ext\\declarative\\clsregistry.py:125: SAWarning: This declarative base already contains a class with the same class name and module name as __main__.Shark, and will be replaced in the string-lookup table.\n",
      "  util.warn(\n"
     ]
    }
   ],
   "source": [
    "# create your shark class\n",
    "class Shark(Base):\n",
    "    __tablename__ = 'Sharks'\n",
    "    id = Column(Integer, primary_key=True)\n",
    "    case_number = Column(String)\n",
    "    date = Column(String)\n",
    "    year = Column(Integer)\n",
    "    type = Column(String)\n",
    "    country = Column(String)\n",
    "    area = Column(String)\n",
    "    location= Column(String)\n",
    "    activity = Column(String)\n",
    "    name = Column(String)\n",
    "    sex = Column(String)\n",
    "    age = Column(Integer)\n",
    "    injury = Column(String)\n",
    "    fatal_y_n = Column(String)\n",
    "    time = Column(String)\n",
    "    species = Column(String)\n",
    "    investigator_or_source = Column(String)\n",
    "    pdf = Column(String)\n",
    "    original_order = Column(Integer)"
   ]
  },
  {
   "cell_type": "code",
   "execution_count": 11,
   "metadata": {
    "deletable": false,
    "nbgrader": {
     "checksum": "827e8537e30fd84c706b14b2040fccf2",
     "grade": false,
     "grade_id": "cell-48e2a351e977f8b6",
     "locked": false,
     "schema_version": 1,
     "solution": true
    }
   },
   "outputs": [
    {
     "name": "stdout",
     "output_type": "stream",
     "text": [
      "Point Casuarina, Bunbury\n",
      "Flinders, Mornington Penisula\n",
      "Weipa\n",
      "None\n",
      "Sanibel Island, Lee County\n",
      "2-3 km north of Sunday's River mouth\n",
      "Second Beach, Port St. John's\n",
      "Blue Bay\n",
      "South Broulee\n",
      "Bateman's Bay\n",
      "Ponce Inlet, Volusia County\n",
      "Pulau Payar Island\n",
      "Alenuihaha Channel\n",
      "The Natural Jetty, Rottnest Island\n",
      "Near Albany\n",
      "Bourail\n",
      "Off Cape Point\n",
      "Taranaki\n",
      "Avalon\n",
      "Batt Reef\n",
      "Shelly Beach, near Port Macquarie\n",
      "Bondi Beach, Sydney\n",
      "Garden Point, Woolloomooloo Sydney Harbour\n",
      "Quebradillas\n",
      "Cellito Beach\n",
      "Florida Keys, Monroe County\n",
      "Sandon\n",
      "Onboard the fishing vessel Nuevo Cedes\n",
      "Praia do Olho d'Aqua\n",
      "Guantanamo Bay\n",
      "Alderman Islands\n",
      "Surf Beach, Batemans Bay\n",
      "Second Beach, Port St. John's\n",
      "Olho d'Água\n",
      "Off Tower Hill\n",
      "Karitane Beach\n",
      "Sharpes Beach, Ballina\n",
      "Shark Alley, off Gansbaai\n",
      "Windang,       Lake Illawara\n",
      "Binalong Bay\n",
      "Fingal Beach\n",
      "Hawkes Bay\n",
      "Isla Isabella\n",
      "Haumoana\n",
      "Guantanamo\n",
      "Port Kennedy Beach\n",
      "near Schouten Island\n",
      "Irino Beach\n",
      "Seal Rocks\n",
      "Long Reef, north of Sydney\n",
      "Port Kennedy Beach\n",
      "Dillon Beach, Marin County\n",
      "Maraetai\n",
      "Plettenberg Bay\n",
      "Mowarry Point\n",
      "Chidenguele\n",
      "Elphinstone Reef\n",
      "Luzon Strait\n",
      "Clifton Beach\n",
      "Santa Cruz\n",
      "North Haven\n",
      "50 miles off Kaohsiung\n",
      "off Paoay, Ilocos Norte Province\n",
      "Oceanworld, Manley\n",
      "None\n",
      "Darwin\n",
      "Lake Macquarie\n",
      "Santa Rosa Beach, Walton County\n",
      "Smokvina Bay, Vis Island\n",
      "Green Turtle Cay\n",
      "New Smyrna Beach, Volusia County\n",
      "Bethune Beach\n",
      "Near Croker Island\n",
      "Ormond-by-the-Sea, Volusia County\n",
      "Ka'a'awa, Oahu\n",
      "Surf Beach, Lompoc, Santa Barbara County\n",
      "Clarks Beach, Byron Bay\n",
      "Ponce Inlet, New Smyrna Beach, Volusia County\n",
      "Ponce Inlet, New Smyrna Beach, Volusia County\n",
      "New Smyrna Beach, Volusia County\n",
      "20 k off The Spit, off the Gold Coast\n",
      "Hutchinson Island\n",
      "Tallow Beach, Byron Bay\n",
      "McKenzie Beach Park in Pahoa, Hawai'i \n",
      "Lundy Island\n",
      "New Smyrna Beach, Volusia County\n",
      "New Smyrna Beach, Volusia County\n",
      "New Smyrna Beach, Volusia County\n",
      "Surf City, Topsail Island, Pender County\n",
      "Sanibel Island, Lee County\n",
      "North Myrtle Beach, Horry County\n",
      "8 miles off Mobile\n",
      "Buck Island\n",
      "New Smyrna Beach, Volusia County\n",
      "Ala Moana Beach Park, Oah'u\n",
      "Levys Beach\n",
      "None\n",
      "Playa Teta\n",
      "None\n",
      "Honokowai, Maui\n"
     ]
    }
   ],
   "source": [
    "# print all locations of shark attacks\n",
    "attacks = session.query(Shark) \n",
    "for attack in attacks:\n",
    "    print(attack.location)"
   ]
  },
  {
   "cell_type": "code",
   "execution_count": 43,
   "metadata": {
    "deletable": false,
    "nbgrader": {
     "checksum": "5da00f78964b8a2627e7955872b79cf2",
     "grade": false,
     "grade_id": "cell-33b12ba730e08a42",
     "locked": false,
     "schema_version": 1,
     "solution": true
    }
   },
   "outputs": [
    {
     "name": "stdout",
     "output_type": "stream",
     "text": [
      "12\n"
     ]
    }
   ],
   "source": [
    "# find the number of provoked attacks\n",
    "provoked = session.query(Shark).filter_by(type='Provoked').count()\n",
    "print(provoked)"
   ]
  },
  {
   "cell_type": "code",
   "execution_count": 44,
   "metadata": {
    "deletable": false,
    "nbgrader": {
     "checksum": "625cca75f2e3869d61a4d1bb6aaa862d",
     "grade": false,
     "grade_id": "cell-4b1293d38480400d",
     "locked": false,
     "schema_version": 1,
     "solution": true
    }
   },
   "outputs": [
    {
     "name": "stdout",
     "output_type": "stream",
     "text": [
      "28\n"
     ]
    }
   ],
   "source": [
    "# find the number of attacks in USA\n",
    "usa_attacks = session.query(Shark).filter_by(country=\"USA\").count()\n",
    "print(usa_attacks)"
   ]
  },
  {
   "cell_type": "code",
   "execution_count": 45,
   "metadata": {
    "deletable": false,
    "nbgrader": {
     "checksum": "5c44b8a34de6f5090552b1efa1c4d58e",
     "grade": false,
     "grade_id": "cell-5431c1fabaae9ed8",
     "locked": false,
     "schema_version": 1,
     "solution": true
    }
   },
   "outputs": [
    {
     "name": "stdout",
     "output_type": "stream",
     "text": [
      "3\n"
     ]
    }
   ],
   "source": [
    "# find the number of attacks in 2017\n",
    "attacks_2017 = session.query(Shark).filter_by(year=\"2017\").count()\n",
    "print(attacks_2017)"
   ]
  },
  {
   "cell_type": "code",
   "execution_count": 33,
   "metadata": {
    "deletable": false,
    "nbgrader": {
     "checksum": "6fb8eae592cf139c082c6f77d42e00aa",
     "grade": false,
     "grade_id": "cell-4de2402e47fe0214",
     "locked": false,
     "schema_version": 1,
     "solution": true
    }
   },
   "outputs": [
    {
     "name": "stdout",
     "output_type": "stream",
     "text": [
      "34\n"
     ]
    }
   ],
   "source": [
    "# find the number of attacks while surfing\n",
    "surfing_attacks = session.query(Shark).filter_by(activity=\"Surfing\").count()\n",
    "print(surfing_attacks)"
   ]
  },
  {
   "cell_type": "code",
   "execution_count": 34,
   "metadata": {
    "deletable": false,
    "nbgrader": {
     "checksum": "ac16e312f24b2a48fba9a384e600676f",
     "grade": false,
     "grade_id": "cell-9e2afa5b2f869a4f",
     "locked": false,
     "schema_version": 1,
     "solution": true
    }
   },
   "outputs": [
    {
     "name": "stdout",
     "output_type": "stream",
     "text": [
      "12\n"
     ]
    }
   ],
   "source": [
    "# find the number of fatal attacks\n",
    "attacks_fatal = session.query(Shark).filter_by(fatal_y_n=\"Y\").count()\n",
    "print(attacks_fatal)"
   ]
  },
  {
   "cell_type": "code",
   "execution_count": 35,
   "metadata": {
    "deletable": false,
    "nbgrader": {
     "checksum": "099a489efed7a5379e3b22a0997c9465",
     "grade": false,
     "grade_id": "cell-75819f28900a2e54",
     "locked": false,
     "schema_version": 1,
     "solution": true
    }
   },
   "outputs": [
    {
     "name": "stdout",
     "output_type": "stream",
     "text": [
      "2\n"
     ]
    }
   ],
   "source": [
    "# find the number of fatal attacks while surfing\n",
    "surfing_fatility = session.query(Shark).filter_by(activity=\"Surfing\").filter_by(fatal_y_n=\"Y\").count()\n",
    "print(surfing_fatility)"
   ]
  },
  {
   "cell_type": "code",
   "execution_count": 51,
   "metadata": {
    "deletable": false,
    "nbgrader": {
     "checksum": "7e93397023f1706df0f8bec0a433137b",
     "grade": false,
     "grade_id": "cell-ef68003cff255319",
     "locked": false,
     "schema_version": 1,
     "solution": true
    }
   },
   "outputs": [
    {
     "name": "stdout",
     "output_type": "stream",
     "text": [
      "1\n"
     ]
    }
   ],
   "source": [
    "# find the number of fatal attacks in Mozambique while spearfishing\n",
    "mozambique_fishing = session.query(Shark).filter_by(country=\"MOZAMBIQUE\").filter_by(activity=\"Spearfishing\").filter_by(fatal_y_n=\"Y\").count()\n",
    "print(mozambique_fishing)"
   ]
  },
  {
   "cell_type": "code",
   "execution_count": null,
   "metadata": {},
   "outputs": [],
   "source": []
  }
 ],
 "metadata": {
  "kernelspec": {
   "display_name": "Python [conda env:root] *",
   "language": "python",
   "name": "conda-root-py"
  },
  "language_info": {
   "codemirror_mode": {
    "name": "ipython",
    "version": 3
   },
   "file_extension": ".py",
   "mimetype": "text/x-python",
   "name": "python",
   "nbconvert_exporter": "python",
   "pygments_lexer": "ipython3",
   "version": "3.8.3"
  },
  "varInspector": {
   "cols": {
    "lenName": 16,
    "lenType": 16,
    "lenVar": 40
   },
   "kernels_config": {
    "python": {
     "delete_cmd_postfix": "",
     "delete_cmd_prefix": "del ",
     "library": "var_list.py",
     "varRefreshCmd": "print(var_dic_list())"
    },
    "r": {
     "delete_cmd_postfix": ") ",
     "delete_cmd_prefix": "rm(",
     "library": "var_list.r",
     "varRefreshCmd": "cat(var_dic_list()) "
    }
   },
   "types_to_exclude": [
    "module",
    "function",
    "builtin_function_or_method",
    "instance",
    "_Feature"
   ],
   "window_display": false
  }
 },
 "nbformat": 4,
 "nbformat_minor": 2
}
